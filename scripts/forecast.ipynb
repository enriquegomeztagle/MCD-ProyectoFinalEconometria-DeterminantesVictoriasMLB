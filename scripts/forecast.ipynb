{
  "cells": [
    {
      "cell_type": "code",
      "execution_count": 1,
      "id": "d2b70b06",
      "metadata": {},
      "outputs": [],
      "source": [
        "import pandas as pd\n",
        "import numpy as np\n",
        "from pathlib import Path\n",
        "import matplotlib.pyplot as plt\n",
        "import statsmodels.formula.api as smf\n",
        "from sklearn.metrics import mean_squared_error, mean_absolute_error"
      ]
    },
    {
      "cell_type": "code",
      "execution_count": 2,
      "id": "38366dd5",
      "metadata": {},
      "outputs": [],
      "source": [
        "MASTER = Path(\"../data/processed/master_teams_2000_2019.csv\")\n",
        "TAB_OUT = Path(\"../data/processed\")\n",
        "FIG_OUT = Path(\"../plots/final_version\")\n",
        "TAB_OUT.mkdir(parents=True, exist_ok=True)\n",
        "FIG_OUT.mkdir(parents=True, exist_ok=True)\n",
        "LATEX_OUT = Path(\"../latex/tables/final_version\")\n",
        "LATEX_OUT.mkdir(parents=True, exist_ok=True)"
      ]
    },
    {
      "cell_type": "code",
      "execution_count": 3,
      "id": "fea5c157",
      "metadata": {},
      "outputs": [],
      "source": [
        "df = pd.read_csv(MASTER, parse_dates=[\"season_date\"])"
      ]
    },
    {
      "cell_type": "code",
      "execution_count": 4,
      "id": "056adf89",
      "metadata": {},
      "outputs": [],
      "source": [
        "BEST_FORMULA = \"W ~ RunDiff + ERA + HR\"\n",
        "BASELINE_FORMULAS = {\n",
        "    \"RunDiff (lineal)\": \"W ~ RunDiff\",\n",
        "    \"ERA (lineal)\": \"W ~ ERA\",\n",
        "    \"HR (lineal)\": \"W ~ HR\",\n",
        "}"
      ]
    },
    {
      "cell_type": "code",
      "execution_count": 5,
      "id": "3a8c484a",
      "metadata": {},
      "outputs": [],
      "source": [
        "train_mask = (df[\"yearID\"] >= 2000) & (df[\"yearID\"] <= 2016)\n",
        "test_mask = (df[\"yearID\"] >= 2017) & (df[\"yearID\"] <= 2019)"
      ]
    },
    {
      "cell_type": "code",
      "execution_count": 6,
      "id": "7df545cb",
      "metadata": {},
      "outputs": [],
      "source": [
        "df_train = df.loc[train_mask].copy()\n",
        "df_test = df.loc[test_mask].copy()"
      ]
    },
    {
      "cell_type": "code",
      "execution_count": 7,
      "id": "ac1df1a2",
      "metadata": {},
      "outputs": [
        {
          "name": "stdout",
          "output_type": "stream",
          "text": [
            "2000 2016 510\n",
            "2017 2019 90\n"
          ]
        }
      ],
      "source": [
        "print(df_train[\"yearID\"].min(), df_train[\"yearID\"].max(), len(df_train))\n",
        "print(df_test[\"yearID\"].min(), df_test[\"yearID\"].max(), len(df_test))"
      ]
    },
    {
      "cell_type": "code",
      "execution_count": 8,
      "id": "e314aabd",
      "metadata": {},
      "outputs": [
        {
          "name": "stdout",
          "output_type": "stream",
          "text": [
            "                            OLS Regression Results                            \n",
            "==============================================================================\n",
            "Dep. Variable:                      W   R-squared:                       0.876\n",
            "Model:                            OLS   Adj. R-squared:                  0.875\n",
            "Method:                 Least Squares   F-statistic:                     1192.\n",
            "Date:                Wed, 01 Oct 2025   Prob (F-statistic):          6.74e-229\n",
            "Time:                        01:17:15   Log-Likelihood:                -1430.4\n",
            "No. Observations:                 510   AIC:                             2869.\n",
            "Df Residuals:                     506   BIC:                             2886.\n",
            "Df Model:                           3                                         \n",
            "Covariance Type:            nonrobust                                         \n",
            "==============================================================================\n",
            "                 coef    std err          t      P>|t|      [0.025      0.975]\n",
            "------------------------------------------------------------------------------\n",
            "Intercept     86.1507      1.845     46.693      0.000      82.526      89.776\n",
            "RunDiff        0.0922      0.003     31.626      0.000       0.086       0.098\n",
            "ERA           -1.9674      0.534     -3.684      0.000      -3.017      -0.918\n",
            "HR             0.0187      0.007      2.632      0.009       0.005       0.033\n",
            "==============================================================================\n",
            "Omnibus:                        3.531   Durbin-Watson:                   1.770\n",
            "Prob(Omnibus):                  0.171   Jarque-Bera (JB):                3.409\n",
            "Skew:                           0.199   Prob(JB):                        0.182\n",
            "Kurtosis:                       3.045   Cond. No.                     1.84e+03\n",
            "==============================================================================\n",
            "\n",
            "Notes:\n",
            "[1] Standard Errors assume that the covariance matrix of the errors is correctly specified.\n",
            "[2] The condition number is large, 1.84e+03. This might indicate that there are\n",
            "strong multicollinearity or other numerical problems.\n"
          ]
        }
      ],
      "source": [
        "best_mod = smf.ols(BEST_FORMULA, data=df_train).fit()\n",
        "print(best_mod.summary())"
      ]
    },
    {
      "cell_type": "code",
      "execution_count": 9,
      "id": "9331fdd5",
      "metadata": {},
      "outputs": [],
      "source": [
        "pred_train = best_mod.get_prediction(df_train)\n",
        "pred_train_df = pred_train.summary_frame(alpha=0.05)"
      ]
    },
    {
      "cell_type": "code",
      "execution_count": 10,
      "id": "8f4c70dc",
      "metadata": {},
      "outputs": [],
      "source": [
        "df_train_pred = df_train.copy()\n",
        "df_train_pred[\"yhat\"] = pred_train_df[\"mean\"].values\n",
        "df_train_pred[\"mean_ci_low\"] = pred_train_df[\"mean_ci_lower\"].values\n",
        "df_train_pred[\"mean_ci_high\"] = pred_train_df[\"mean_ci_upper\"].values\n",
        "df_train_pred[\"pred_ci_low\"] = pred_train_df[\"obs_ci_lower\"].values\n",
        "df_train_pred[\"pred_ci_high\"] = pred_train_df[\"obs_ci_upper\"].values"
      ]
    },
    {
      "cell_type": "code",
      "execution_count": 11,
      "id": "cb8800fc",
      "metadata": {},
      "outputs": [],
      "source": [
        "pred_test = best_mod.get_prediction(df_test)\n",
        "pred_test_df = pred_test.summary_frame(alpha=0.05)\n",
        "df_test_pred = df_test.copy()\n",
        "df_test_pred[\"yhat\"] = pred_test_df[\"mean\"].values\n",
        "df_test_pred[\"mean_ci_low\"] = pred_test_df[\"mean_ci_lower\"].values\n",
        "df_test_pred[\"mean_ci_high\"] = pred_test_df[\"mean_ci_upper\"].values\n",
        "df_test_pred[\"pred_ci_low\"] = pred_test_df[\"obs_ci_lower\"].values\n",
        "df_test_pred[\"pred_ci_high\"] = pred_test_df[\"obs_ci_upper\"].values"
      ]
    },
    {
      "cell_type": "code",
      "execution_count": 12,
      "id": "9e4a8c84",
      "metadata": {},
      "outputs": [],
      "source": [
        "def metrics(y_true, y_pred):\n",
        "    mse = mean_squared_error(y_true, y_pred)\n",
        "    rmse = np.sqrt(mse)\n",
        "    mae = mean_absolute_error(y_true, y_pred)\n",
        "    return mse, rmse, mae"
      ]
    },
    {
      "cell_type": "code",
      "execution_count": 13,
      "id": "67d6317f",
      "metadata": {},
      "outputs": [],
      "source": [
        "mse_tr, rmse_tr, mae_tr = metrics(df_train_pred[\"W\"], df_train_pred[\"yhat\"])\n",
        "mse_te, rmse_te, mae_te = metrics(df_test_pred[\"W\"], df_test_pred[\"yhat\"])"
      ]
    },
    {
      "cell_type": "code",
      "execution_count": 14,
      "id": "2b70038f",
      "metadata": {},
      "outputs": [],
      "source": [
        "eval_rows = [\n",
        "    {\n",
        "        \"Modelo\": \"Best: \" + BEST_FORMULA,\n",
        "        \"Split\": \"Train (2000–2016)\",\n",
        "        \"MSE\": mse_tr,\n",
        "        \"RMSE\": rmse_tr,\n",
        "        \"MAE\": mae_tr,\n",
        "        \"N\": len(df_train_pred),\n",
        "    },\n",
        "    {\n",
        "        \"Modelo\": \"Best: \" + BEST_FORMULA,\n",
        "        \"Split\": \"Test (2017–2019)\",\n",
        "        \"MSE\": mse_te,\n",
        "        \"RMSE\": rmse_te,\n",
        "        \"MAE\": mae_te,\n",
        "        \"N\": len(df_test_pred),\n",
        "    },\n",
        "]"
      ]
    },
    {
      "cell_type": "code",
      "execution_count": 15,
      "id": "1be56abd",
      "metadata": {},
      "outputs": [],
      "source": [
        "for name, fml in BASELINE_FORMULAS.items():\n",
        "    mod = smf.ols(fml, data=df_train).fit()\n",
        "    yhat_tr = mod.predict(df_train)\n",
        "    yhat_te = mod.predict(df_test)\n",
        "    mse_tr, rmse_tr, mae_tr = metrics(df_train[\"W\"], yhat_tr)\n",
        "    mse_te, rmse_te, mae_te = metrics(df_test[\"W\"], yhat_te)\n",
        "    eval_rows.append(\n",
        "        {\n",
        "            \"Modelo\": name,\n",
        "            \"Split\": \"Train (2000–2016)\",\n",
        "            \"MSE\": mse_tr,\n",
        "            \"RMSE\": rmse_tr,\n",
        "            \"MAE\": mae_tr,\n",
        "            \"N\": len(df_train),\n",
        "        }\n",
        "    )\n",
        "    eval_rows.append(\n",
        "        {\n",
        "            \"Modelo\": name,\n",
        "            \"Split\": \"Test (2017–2019)\",\n",
        "            \"MSE\": mse_te,\n",
        "            \"RMSE\": rmse_te,\n",
        "            \"MAE\": mae_te,\n",
        "            \"N\": len(df_test),\n",
        "        }\n",
        "    )"
      ]
    },
    {
      "cell_type": "code",
      "execution_count": 16,
      "id": "1780bf6e",
      "metadata": {},
      "outputs": [
        {
          "name": "stdout",
          "output_type": "stream",
          "text": [
            "                         Modelo              Split         MSE       RMSE  \\\n",
            "0  Best: W ~ RunDiff + ERA + HR  Train (2000–2016)   15.980332   3.997541   \n",
            "1  Best: W ~ RunDiff + ERA + HR   Test (2017–2019)   15.721325   3.965013   \n",
            "2              RunDiff (lineal)  Train (2000–2016)   16.419602   4.052111   \n",
            "3              RunDiff (lineal)   Test (2017–2019)   15.570596   3.945959   \n",
            "4                  ERA (lineal)  Train (2000–2016)   78.792363   8.876506   \n",
            "5                  ERA (lineal)   Test (2017–2019)   83.491520   9.137369   \n",
            "6                   HR (lineal)  Train (2000–2016)  109.491126  10.463801   \n",
            "7                   HR (lineal)   Test (2017–2019)  165.823211  12.877236   \n",
            "\n",
            "         MAE    N  \n",
            "0   3.205330  510  \n",
            "1   3.027468   90  \n",
            "2   3.251917  510  \n",
            "3   2.977856   90  \n",
            "4   7.176658  510  \n",
            "5   7.209467   90  \n",
            "6   8.630158  510  \n",
            "7  10.449960   90  \n"
          ]
        }
      ],
      "source": [
        "eval_df = pd.DataFrame(eval_rows)\n",
        "eval_df.to_csv(TAB_OUT / \"forecast_eval_metrics.csv\", index=False, float_format=\"%.6f\")\n",
        "print(eval_df)"
      ]
    },
    {
      "cell_type": "code",
      "execution_count": 17,
      "id": "da60179a",
      "metadata": {},
      "outputs": [
        {
          "name": "stdout",
          "output_type": "stream",
          "text": [
            "Tabla LaTeX exportada: ../latex/tables/final_version/forecast_eval_metrics.tex\n"
          ]
        }
      ],
      "source": [
        "try:\n",
        "    with open(LATEX_OUT / \"forecast_eval_metrics.tex\", \"w\") as f:\n",
        "        f.write(\n",
        "            eval_df.rename(\n",
        "                columns={\n",
        "                    \"Modelo\": \"Modelo\",\n",
        "                    \"Split\": \"Partición\",\n",
        "                    \"MSE\": \"MSE\",\n",
        "                    \"RMSE\": \"RMSE\",\n",
        "                    \"MAE\": \"MAE\",\n",
        "                    \"N\": \"N\",\n",
        "                }\n",
        "            ).to_latex(\n",
        "                index=False,\n",
        "                float_format=\"%.3f\",\n",
        "                caption=\"Evaluación de pronóstico (train/test temporal)\",\n",
        "                label=\"tab:forecast_eval\",\n",
        "            )\n",
        "        )\n",
        "    print(f\"Tabla LaTeX exportada: {LATEX_OUT / 'forecast_eval_metrics.tex'}\")\n",
        "except Exception as e:\n",
        "    print(\"No se exportó LaTeX (opcional). Razón:\", e)"
      ]
    },
    {
      "cell_type": "code",
      "execution_count": null,
      "id": "c214f737",
      "metadata": {},
      "outputs": [
        {
          "data": {
            "image/png": "[encoded data removed]",
            "text/plain": [
              "<Figure size 640x540 with 1 Axes>"
            ]
          },
          "metadata": {},
          "output_type": "display_data"
        }
      ],
      "source": [
        "plt.figure(figsize=(6.4, 5.4))\n",
        "plt.scatter(df_test_pred[\"W\"], df_test_pred[\"yhat\"], alpha=0.7, edgecolor=\"black\")\n",
        "lims = [\n",
        "    min(df_test_pred[\"W\"].min(), df_test_pred[\"yhat\"].min()) - 2,\n",
        "    max(df_test_pred[\"W\"].max(), df_test_pred[\"yhat\"].max()) + 2,\n",
        "]\n",
        "plt.plot(lims, lims, \"k--\", lw=1, alpha=0.8)\n",
        "plt.xlim(lims)\n",
        "plt.ylim(lims)\n",
        "plt.xlabel(\"W observado (test)\")\n",
        "plt.ylabel(\"W pronosticado (test)\")\n",
        "plt.title(\"Parity plot (Test) – Mejor modelo\")\n",
        "plt.tight_layout()\n",
        "plt.savefig(\n",
        "    FIG_OUT / \"forecast_parity_test_best.png\",\n",
        "    dpi=150,\n",
        "    bbox_inches=\"tight\",\n",
        "    transparent=True,\n",
        ")\n",
        "plt.show()\n",
        "plt.close()"
      ]
    },
    {
      "cell_type": "code",
      "execution_count": 19,
      "id": "3f3e0ea9",
      "metadata": {},
      "outputs": [
        {
          "data": {
            "image/png": "[encoded data removed]",
            "text/plain": [
              "<Figure size 680x500 with 1 Axes>"
            ]
          },
          "metadata": {},
          "output_type": "display_data"
        }
      ],
      "source": [
        "resid_test = df_test_pred[\"W\"] - df_test_pred[\"yhat\"]\n",
        "plt.figure(figsize=(6.8, 5.0))\n",
        "plt.scatter(df_test_pred[\"yhat\"], resid_test, alpha=0.7, edgecolor=\"black\")\n",
        "plt.axhline(0.0, lw=1.0, color=\"black\")\n",
        "plt.xlabel(\"Valores ajustados (ŷ) – Test\")\n",
        "plt.ylabel(\"Residuales (y - ŷ)\")\n",
        "plt.title(\"Residuales vs valores ajustados (Test) – Modelo múltiple\")\n",
        "plt.tight_layout()\n",
        "plt.savefig(\n",
        "    FIG_OUT / \"forecast_residuals_vs_fitted_test.png\",\n",
        "    dpi=150,\n",
        "    bbox_inches=\"tight\",\n",
        "    transparent=True,\n",
        ")\n",
        "plt.show()\n",
        "plt.close()"
      ]
    },
    {
      "cell_type": "code",
      "execution_count": 20,
      "id": "88e8eaa3",
      "metadata": {},
      "outputs": [],
      "source": [
        "def forecast_new(best_fitted_model, new_rows):\n",
        "    if isinstance(new_rows, pd.DataFrame):\n",
        "        new = new_rows.copy()\n",
        "    else:\n",
        "        new = pd.DataFrame(new_rows)\n",
        "    required = {\"RunDiff\", \"ERA\", \"HR\"}\n",
        "    missing = required - set(new.columns)\n",
        "    if missing:\n",
        "        raise ValueError(f\"Faltan columnas requeridas: {sorted(missing)}\")\n",
        "    pred = best_fitted_model.get_prediction(new)\n",
        "    sf = pred.summary_frame(alpha=0.05)\n",
        "    out = new.reset_index(drop=True).copy()\n",
        "    out[\"yhat\"] = sf[\"mean\"].values\n",
        "    out[\"mean_ci_low\"] = sf[\"mean_ci_lower\"].values\n",
        "    out[\"mean_ci_high\"] = sf[\"mean_ci_upper\"].values\n",
        "    out[\"pred_ci_low\"] = sf[\"obs_ci_lower\"].values\n",
        "    out[\"pred_ci_high\"] = sf[\"obs_ci_upper\"].values\n",
        "    return out"
      ]
    },
    {
      "cell_type": "code",
      "execution_count": 21,
      "id": "3992f017",
      "metadata": {},
      "outputs": [
        {
          "name": "stdout",
          "output_type": "stream",
          "text": [
            "   RunDiff  ERA   HR        yhat  mean_ci_low  mean_ci_high  pred_ci_low  \\\n",
            "0     -150  5.0  140   65.108217    64.390262     65.826171    57.190794   \n",
            "1      -50  4.3  170   76.264253    75.831285     76.697221    68.367571   \n",
            "2        0  4.0  200   82.024660    81.309088     82.740232    74.107453   \n",
            "3       50  3.8  210   87.213990    86.409977     88.018002    79.288300   \n",
            "4      150  3.5  230   97.395913    96.406008     98.385818    89.449213   \n",
            "5      250  3.2  250  107.577837   106.333227    108.822446    99.595407   \n",
            "\n",
            "   pred_ci_high  \n",
            "0     73.025639  \n",
            "1     84.160935  \n",
            "2     89.941867  \n",
            "3     95.139679  \n",
            "4    105.342613  \n",
            "5    115.560266  \n"
          ]
        }
      ],
      "source": [
        "ejemplo = forecast_new(\n",
        "    best_mod,\n",
        "    new_rows=[\n",
        "        {\"RunDiff\": -150, \"ERA\": 5.0, \"HR\": 140},\n",
        "        {\"RunDiff\": -50, \"ERA\": 4.3, \"HR\": 170},\n",
        "        {\"RunDiff\": 0, \"ERA\": 4.0, \"HR\": 200},\n",
        "        {\"RunDiff\": 50, \"ERA\": 3.8, \"HR\": 210},\n",
        "        {\"RunDiff\": 150, \"ERA\": 3.5, \"HR\": 230},\n",
        "        {\"RunDiff\": 250, \"ERA\": 3.2, \"HR\": 250},\n",
        "    ],\n",
        ")\n",
        "print(ejemplo)\n",
        "ejemplo.to_csv(TAB_OUT / \"forecast_new_examples.csv\", index=False)"
      ]
    },
    {
      "cell_type": "code",
      "execution_count": null,
      "id": "caa39cde",
      "metadata": {},
      "outputs": [],
      "source": []
    }
  ],
  "metadata": {
    "kernelspec": {
      "display_name": "stats",
      "language": "python",
      "name": "python3"
    },
    "language_info": {
      "codemirror_mode": {
        "name": "ipython",
        "version": 3
      },
      "file_extension": ".py",
      "mimetype": "text/x-python",
      "name": "python",
      "nbconvert_exporter": "python",
      "pygments_lexer": "ipython3",
      "version": "3.11.11"
    }
  },
  "nbformat": 4,
  "nbformat_minor": 5
}
