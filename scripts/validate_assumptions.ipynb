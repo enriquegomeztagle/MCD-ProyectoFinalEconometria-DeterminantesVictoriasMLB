{
 "cells": [
  {
   "cell_type": "code",
   "execution_count": 1,
   "id": "33a847b7",
   "metadata": {},
   "outputs": [],
   "source": [
    "import pandas as pd\n",
    "import numpy as np\n",
    "from pathlib import Path\n",
    "import matplotlib.pyplot as plt\n",
    "\n",
    "import statsmodels.api as sm\n",
    "import statsmodels.stats.api as sms\n",
    "from statsmodels.tools.tools import add_constant\n",
    "from statsmodels.stats.diagnostic import (\n",
    "    het_breuschpagan,\n",
    "    het_white,\n",
    "    linear_rainbow,\n",
    "    linear_reset,\n",
    ")\n",
    "from statsmodels.graphics.gofplots import qqplot\n",
    "from statsmodels.graphics.regressionplots import (\n",
    "    plot_partregress_grid,\n",
    "    influence_plot,\n",
    "    plot_leverage_resid2,\n",
    ")\n",
    "from scipy.stats import shapiro, jarque_bera\n",
    "from statsmodels.stats.outliers_influence import variance_inflation_factor"
   ]
  },
  {
   "cell_type": "code",
   "execution_count": 2,
   "id": "5468b955",
   "metadata": {},
   "outputs": [],
   "source": [
    "MASTER = Path(\"../data/processed/master_teams_2000_2019.csv\")\n",
    "TAB_OUT = Path(\"../data/processed/\")\n",
    "FIG_OUT = Path(\"../plots/final_version\")\n",
    "LATEX_OUT = Path(\"../latex/tables/final_version\")\n",
    "for p in [TAB_OUT, FIG_OUT, LATEX_OUT]:\n",
    "    p.mkdir(parents=True, exist_ok=True)"
   ]
  },
  {
   "cell_type": "code",
   "execution_count": 3,
   "id": "20547dff",
   "metadata": {},
   "outputs": [],
   "source": [
    "predictors_all = [\"RunDiff\", \"ERA\", \"HR\"]\n",
    "target = \"W\""
   ]
  },
  {
   "cell_type": "code",
   "execution_count": 4,
   "id": "bb63b88c",
   "metadata": {},
   "outputs": [],
   "source": [
    "df = pd.read_csv(MASTER, parse_dates=[\"season_date\"])\n",
    "sub = df[[target] + predictors_all].dropna().copy()"
   ]
  },
  {
   "cell_type": "code",
   "execution_count": 5,
   "id": "8bb6a43c",
   "metadata": {},
   "outputs": [
    {
     "name": "stdout",
     "output_type": "stream",
     "text": [
      "\n",
      "=== SUMMARY DEL MODELO MÚLTIPLE ===\n",
      "                            OLS Regression Results                            \n",
      "==============================================================================\n",
      "Dep. Variable:                      W   R-squared:                       0.885\n",
      "Model:                            OLS   Adj. R-squared:                  0.885\n",
      "Method:                 Least Squares   F-statistic:                     1534.\n",
      "Date:                Wed, 01 Oct 2025   Prob (F-statistic):          9.94e-280\n",
      "Time:                        00:51:22   Log-Likelihood:                -1681.4\n",
      "No. Observations:                 600   AIC:                             3371.\n",
      "Df Residuals:                     596   BIC:                             3388.\n",
      "Df Model:                           3                                         \n",
      "Covariance Type:            nonrobust                                         \n",
      "==============================================================================\n",
      "                 coef    std err          t      P>|t|      [0.025      0.975]\n",
      "------------------------------------------------------------------------------\n",
      "const         86.0159      1.764     48.751      0.000      82.551      89.481\n",
      "RunDiff        0.0917      0.003     34.975      0.000       0.087       0.097\n",
      "ERA           -1.8249      0.500     -3.647      0.000      -2.807      -0.842\n",
      "HR             0.0156      0.006      2.640      0.009       0.004       0.027\n",
      "==============================================================================\n",
      "Omnibus:                        4.013   Durbin-Watson:                   1.789\n",
      "Prob(Omnibus):                  0.134   Jarque-Bera (JB):                3.840\n",
      "Skew:                           0.190   Prob(JB):                        0.147\n",
      "Kurtosis:                       3.099   Cond. No.                     1.98e+03\n",
      "==============================================================================\n",
      "\n",
      "Notes:\n",
      "[1] Standard Errors assume that the covariance matrix of the errors is correctly specified.\n",
      "[2] The condition number is large, 1.98e+03. This might indicate that there are\n",
      "strong multicollinearity or other numerical problems.\n"
     ]
    }
   ],
   "source": [
    "X = add_constant(sub[predictors_all])\n",
    "y = sub[target]\n",
    "model = sm.OLS(y, X).fit()\n",
    "\n",
    "print(\"\\n=== SUMMARY DEL MODELO MÚLTIPLE ===\")\n",
    "print(model.summary())"
   ]
  },
  {
   "cell_type": "code",
   "execution_count": 6,
   "id": "b1b4c80a",
   "metadata": {},
   "outputs": [],
   "source": [
    "yhat = model.fittedvalues.values\n",
    "resid = model.resid.values"
   ]
  },
  {
   "cell_type": "code",
   "execution_count": 7,
   "id": "5f955091",
   "metadata": {},
   "outputs": [],
   "source": [
    "rainbow_stat, rainbow_p = linear_rainbow(model)"
   ]
  },
  {
   "cell_type": "code",
   "execution_count": 8,
   "id": "a9d89dea",
   "metadata": {},
   "outputs": [],
   "source": [
    "reset_res = linear_reset(model, power=2, use_f=True)\n",
    "reset_F = float(reset_res.fvalue)\n",
    "reset_p = float(reset_res.pvalue)"
   ]
  },
  {
   "cell_type": "code",
   "execution_count": 9,
   "id": "a6d1ea0d",
   "metadata": {},
   "outputs": [],
   "source": [
    "dw = sms.durbin_watson(resid)"
   ]
  },
  {
   "cell_type": "code",
   "execution_count": 10,
   "id": "24169e38",
   "metadata": {},
   "outputs": [],
   "source": [
    "bp_LM, bp_LMp, bp_F, bp_Fp = het_breuschpagan(resid, model.model.exog)\n",
    "w_LM, w_LMp, w_F, w_Fp = het_white(resid, model.model.exog)"
   ]
  },
  {
   "cell_type": "code",
   "execution_count": 19,
   "id": "e8d7759a",
   "metadata": {},
   "outputs": [],
   "source": [
    "sh_W, sh_p = shapiro(resid)\n",
    "jb_out = jarque_bera(resid)\n",
    "try:\n",
    "    jb_stat = float(jb_out.statistic)\n",
    "    jb_p = float(jb_out.pvalue)\n",
    "except AttributeError:\n",
    "    jb_stat, jb_p = map(float, jb_out)"
   ]
  },
  {
   "cell_type": "code",
   "execution_count": 20,
   "id": "9b1def2b",
   "metadata": {},
   "outputs": [],
   "source": [
    "vif_rows = []\n",
    "for i, col in enumerate([\"const\"] + predictors_all):\n",
    "    vif_val = variance_inflation_factor(X.values, i)\n",
    "    vif_rows.append({\"variable\": col, \"VIF\": float(vif_val)})\n",
    "vif_df = pd.DataFrame(vif_rows)"
   ]
  },
  {
   "cell_type": "code",
   "execution_count": 21,
   "id": "8221505a",
   "metadata": {},
   "outputs": [],
   "source": [
    "cond_num = np.linalg.cond(X.values)"
   ]
  },
  {
   "cell_type": "code",
   "execution_count": 22,
   "id": "80ff6bca",
   "metadata": {},
   "outputs": [],
   "source": [
    "tests = pd.DataFrame(\n",
    "    [\n",
    "        {\n",
    "            \"prueba\": \"Rainbow (linealidad)\",\n",
    "            \"estadístico\": rainbow_stat,\n",
    "            \"p_value\": rainbow_p,\n",
    "        },\n",
    "        {\"prueba\": \"RESET Ramsey (F)\", \"estadístico\": reset_F, \"p_value\": reset_p},\n",
    "        {\"prueba\": \"Durbin–Watson\", \"estadístico\": dw, \"p_value\": np.nan},\n",
    "        {\"prueba\": \"Breusch–Pagan (LM)\", \"estadístico\": bp_LM, \"p_value\": bp_LMp},\n",
    "        {\"prueba\": \"Breusch–Pagan (F)\", \"estadístico\": bp_F, \"p_value\": bp_Fp},\n",
    "        {\"prueba\": \"White (LM)\", \"estadístico\": w_LM, \"p_value\": w_LMp},\n",
    "        {\"prueba\": \"White (F)\", \"estadístico\": w_F, \"p_value\": w_Fp},\n",
    "        {\"prueba\": \"Shapiro–Wilk\", \"estadístico\": sh_W, \"p_value\": sh_p},\n",
    "        {\"prueba\": \"Jarque–Bera\", \"estadístico\": jb_stat, \"p_value\": jb_p},\n",
    "        {\"prueba\": \"Número de condición\", \"estadístico\": cond_num, \"p_value\": np.nan},\n",
    "    ]\n",
    ")"
   ]
  },
  {
   "cell_type": "code",
   "execution_count": 23,
   "id": "84db353b",
   "metadata": {},
   "outputs": [
    {
     "name": "stdout",
     "output_type": "stream",
     "text": [
      "\n",
      "Guardados CSV: ols_multiple_assumption_tests.csv y ols_multiple_vif.csv\n"
     ]
    }
   ],
   "source": [
    "tests.to_csv(\n",
    "    TAB_OUT / \"ols_multiple_assumption_tests.csv\", index=False, float_format=\"%.6f\"\n",
    ")\n",
    "vif_df.to_csv(TAB_OUT / \"ols_multiple_vif.csv\", index=False, float_format=\"%.6f\")\n",
    "print(\"\\nGuardados CSV: ols_multiple_assumption_tests.csv y ols_multiple_vif.csv\")"
   ]
  },
  {
   "cell_type": "code",
   "execution_count": 24,
   "id": "8af76abe",
   "metadata": {},
   "outputs": [
    {
     "name": "stdout",
     "output_type": "stream",
     "text": [
      "Exportadas tablas LaTeX: ols_multiple_assumption_tests.tex y ols_multiple_vif.tex\n"
     ]
    }
   ],
   "source": [
    "latex_tests = tests.rename(\n",
    "    columns={\"prueba\": \"Prueba\", \"estadístico\": \"Estadístico\", \"p_value\": \"$p$\"}\n",
    ").to_latex(\n",
    "    index=False,\n",
    "    float_format=\"%.4f\",\n",
    "    caption=\"Pruebas de supuestos del modelo múltiple\",\n",
    "    label=\"tab:ols_multiple_assumption_tests\",\n",
    ")\n",
    "with open(LATEX_OUT / \"ols_multiple_assumption_tests.tex\", \"w\") as f:\n",
    "    f.write(latex_tests)\n",
    "\n",
    "latex_vif = vif_df.rename(columns={\"variable\": \"Variable\"}).to_latex(\n",
    "    index=False,\n",
    "    float_format=\"%.4f\",\n",
    "    caption=\"Factor de Inflación de la Varianza (VIF) por predictor\",\n",
    "    label=\"tab:ols_multiple_vif\",\n",
    ")\n",
    "with open(LATEX_OUT / \"ols_multiple_vif.tex\", \"w\") as f:\n",
    "    f.write(latex_vif)\n",
    "\n",
    "print(\n",
    "    \"Exportadas tablas LaTeX: ols_multiple_assumption_tests.tex y ols_multiple_vif.tex\"\n",
    ")"
   ]
  },
  {
   "cell_type": "code",
   "execution_count": 25,
   "id": "cd802ff4",
   "metadata": {},
   "outputs": [],
   "source": [
    "fig = plot_partregress_grid(model)\n",
    "fig.suptitle(\"Partial regression (added-variable) – W ~ RunDiff + ERA + HR\", y=1.02)\n",
    "fig.tight_layout()\n",
    "fig.savefig(\n",
    "    FIG_OUT / \"ols_partial_regression_grid.png\",\n",
    "    dpi=150,\n",
    "    bbox_inches=\"tight\",\n",
    "    transparent=True,\n",
    ")\n",
    "plt.close(fig)\n",
    "\n",
    "fig, ax = plt.subplots(figsize=(6.0, 4.5))\n",
    "ax.scatter(yhat, resid, alpha=0.6)\n",
    "ax.axhline(0.0, lw=1.0, color=\"black\")\n",
    "ax.set_xlabel(\"Valores ajustados (ŷ)\")\n",
    "ax.set_ylabel(\"Residuales (y - ŷ)\")\n",
    "ax.set_title(\"Residuales vs valores ajustados\")\n",
    "fig.tight_layout()\n",
    "fig.savefig(\n",
    "    FIG_OUT / \"ols_residuals_vs_fitted.png\",\n",
    "    dpi=150,\n",
    "    bbox_inches=\"tight\",\n",
    "    transparent=True,\n",
    ")\n",
    "plt.close(fig)\n",
    "\n",
    "fig = qqplot(resid, line=\"45\", fit=True)\n",
    "plt.title(\"QQ-plot de residuales\")\n",
    "plt.tight_layout()\n",
    "plt.savefig(\n",
    "    FIG_OUT / \"ols_residuals_qq.png\", dpi=150, bbox_inches=\"tight\", transparent=True\n",
    ")\n",
    "plt.close()\n",
    "\n",
    "fig, ax = plt.subplots(figsize=(6.0, 4.5))\n",
    "plot_leverage_resid2(model, ax=ax)\n",
    "ax.set_title(\"Leverage vs residuales estandarizados\")\n",
    "fig.tight_layout()\n",
    "fig.savefig(\n",
    "    FIG_OUT / \"ols_leverage_resid2.png\", dpi=150, bbox_inches=\"tight\", transparent=True\n",
    ")\n",
    "plt.close(fig)\n",
    "\n",
    "fig, ax = plt.subplots(figsize=(6.5, 5.0))\n",
    "influence_plot(model, criterion=\"cooks\", ax=ax, alpha=0.7)\n",
    "ax.set_title(\"Influence plot (Cook's distance)\")\n",
    "fig.tight_layout()\n",
    "fig.savefig(\n",
    "    FIG_OUT / \"ols_influence_cooks.png\", dpi=150, bbox_inches=\"tight\", transparent=True\n",
    ")\n",
    "plt.close(fig)"
   ]
  },
  {
   "cell_type": "code",
   "execution_count": 26,
   "id": "474b5ac4",
   "metadata": {},
   "outputs": [
    {
     "name": "stdout",
     "output_type": "stream",
     "text": [
      "\n",
      "=== VALIDACIÓN – RESUMEN ===\n",
      "              prueba  estadístico  p_value\n",
      "Rainbow (linealidad)     1.051045 0.333950\n",
      "    RESET Ramsey (F)     3.763321 0.052861\n",
      "       Durbin–Watson     1.788626      NaN\n",
      "  Breusch–Pagan (LM)     4.060384 0.255017\n",
      "   Breusch–Pagan (F)     1.353598 0.256071\n",
      "          White (LM)     9.720160 0.373611\n",
      "           White (F)     1.079506 0.375869\n",
      "        Shapiro–Wilk     0.996431 0.200004\n",
      "         Jarque–Bera     3.840162 0.146595\n",
      " Número de condición  1979.312085      NaN\n",
      "\n",
      "VIF:\n",
      "variable        VIF\n",
      "   const 116.649873\n",
      " RunDiff   3.172741\n",
      "     ERA   2.679042\n",
      "      HR   1.775557\n",
      "\n",
      "Figuras guardadas en: ../plots/final_version\n"
     ]
    }
   ],
   "source": [
    "print(\"\\n=== VALIDACIÓN – RESUMEN ===\")\n",
    "print(tests.to_string(index=False))\n",
    "print(\"\\nVIF:\")\n",
    "print(vif_df.to_string(index=False))\n",
    "print(f\"\\nFiguras guardadas en: {FIG_OUT}\")"
   ]
  },
  {
   "cell_type": "code",
   "execution_count": null,
   "id": "c9372065",
   "metadata": {},
   "outputs": [],
   "source": []
  },
  {
   "cell_type": "code",
   "execution_count": null,
   "id": "e7221ee6",
   "metadata": {},
   "outputs": [],
   "source": []
  }
 ],
 "metadata": {
  "kernelspec": {
   "display_name": "stats",
   "language": "python",
   "name": "python3"
  },
  "language_info": {
   "codemirror_mode": {
    "name": "ipython",
    "version": 3
   },
   "file_extension": ".py",
   "mimetype": "text/x-python",
   "name": "python",
   "nbconvert_exporter": "python",
   "pygments_lexer": "ipython3",
   "version": "3.11.11"
  }
 },
 "nbformat": 4,
 "nbformat_minor": 5
}
