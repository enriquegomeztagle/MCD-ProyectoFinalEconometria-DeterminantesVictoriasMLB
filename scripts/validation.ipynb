{
  "cells": [
    {
      "cell_type": "code",
      "execution_count": 12,
      "id": "5d71dc4a",
      "metadata": {},
      "outputs": [],
      "source": [
        "import pandas as pd\n",
        "from pathlib import Path\n",
        "import statsmodels.formula.api as smf"
      ]
    },
    {
      "cell_type": "code",
      "execution_count": 13,
      "id": "13a1843d",
      "metadata": {},
      "outputs": [],
      "source": [
        "MASTER = Path(\"../data/processed/master_teams_2000_2019.csv\")\n",
        "TAB_OUT = Path(\"../data/processed\")\n",
        "TAB_OUT.mkdir(parents=True, exist_ok=True)\n",
        "LATEX_OUT = Path(\"../latex/tables\")\n",
        "LATEX_OUT.mkdir(parents=True, exist_ok=True)"
      ]
    },
    {
      "cell_type": "code",
      "execution_count": 14,
      "id": "f1454c7e",
      "metadata": {},
      "outputs": [],
      "source": [
        "df = pd.read_csv(MASTER, parse_dates=[\"season_date\"])"
      ]
    },
    {
      "cell_type": "code",
      "execution_count": 15,
      "id": "a43a1092",
      "metadata": {},
      "outputs": [],
      "source": [
        "formulas = [\n",
        "    (\"W ~ RunDiff\", \"Lineal: W ~ RunDiff\"),\n",
        "    (\"W ~ ERA\", \"Lineal: W ~ ERA\"),\n",
        "    (\"W ~ HR\", \"Lineal: W ~ HR\"),\n",
        "    (\"W ~ logHR1\", \"Lineal: W ~ log(HR+1)\"),\n",
        "    (\"W ~ RunDiff + I(RunDiff**2)\", \"Cuadrático: W ~ RunDiff + RunDiff^2\"),\n",
        "]"
      ]
    },
    {
      "cell_type": "code",
      "execution_count": 16,
      "id": "4dc911da",
      "metadata": {},
      "outputs": [],
      "source": [
        "rows = []\n",
        "for fml, nice in formulas:\n",
        "    model = smf.ols(fml, data=df).fit()\n",
        "\n",
        "    F = float(model.fvalue)\n",
        "    pF = float(model.f_pvalue)\n",
        "    df_model = int(model.df_model)\n",
        "    df_resid = int(model.df_resid)\n",
        "\n",
        "    ci = model.conf_int()\n",
        "    for term in model.params.index:\n",
        "        beta = model.params[term]\n",
        "        se = model.bse[term]\n",
        "        tval = model.tvalues[term]\n",
        "        pval = model.pvalues[term]\n",
        "        lo, hi = ci.loc[term, 0], ci.loc[term, 1]\n",
        "        rows.append(\n",
        "            {\n",
        "                \"Modelo\": nice,\n",
        "                \"Fórmula\": fml,\n",
        "                \"gl (modelo,resid)\": f\"({df_model},{df_resid})\",\n",
        "                \"F global\": F,\n",
        "                \"p(F)\": pF,\n",
        "                \"Término\": term,\n",
        "                \"β\": beta,\n",
        "                \"EE(β)\": se,\n",
        "                \"t\": tval,\n",
        "                \"p(t)\": pval,\n",
        "                \"CI95% inf\": lo,\n",
        "                \"CI95% sup\": hi,\n",
        "                \"Signif. 5%\": \"Sí\" if pval < 0.05 else \"No\",\n",
        "                \"R2\": model.rsquared,\n",
        "                \"R2_adj\": model.rsquared_adj,\n",
        "                \"N\": int(model.nobs),\n",
        "            }\n",
        "        )\n",
        "\n",
        "sig_df = pd.DataFrame(rows)"
      ]
    },
    {
      "cell_type": "code",
      "execution_count": 17,
      "id": "c790dfc3",
      "metadata": {},
      "outputs": [
        {
          "name": "stdout",
          "output_type": "stream",
          "text": [
            "Tabla de significancia guardada en: ../data/processed/significancia_ols.csv\n"
          ]
        }
      ],
      "source": [
        "sig_csv = TAB_OUT / \"significancia_ols.csv\"\n",
        "sig_df.to_csv(sig_csv, index=False, float_format=\"%.6f\")\n",
        "print(f\"Tabla de significancia guardada en: {sig_csv}\")"
      ]
    },
    {
      "cell_type": "code",
      "execution_count": 18,
      "id": "7e3c21a7",
      "metadata": {},
      "outputs": [
        {
          "name": "stdout",
          "output_type": "stream",
          "text": [
            "Resumen global guardado en: ../data/processed/significancia_global_ols.csv\n"
          ]
        }
      ],
      "source": [
        "compact = (\n",
        "    sig_df.groupby([\"Modelo\", \"Fórmula\", \"gl (modelo,resid)\"], as_index=False)\n",
        "    .agg(\n",
        "        {\n",
        "            \"F global\": \"first\",\n",
        "            \"p(F)\": \"first\",\n",
        "            \"R2\": \"first\",\n",
        "            \"R2_adj\": \"first\",\n",
        "            \"N\": \"first\",\n",
        "        }\n",
        "    )\n",
        "    .sort_values(\"R2\", ascending=False)\n",
        ")\n",
        "\n",
        "compact_csv = TAB_OUT / \"significancia_global_ols.csv\"\n",
        "compact.to_csv(compact_csv, index=False, float_format=\"%.6f\")\n",
        "print(f\"Resumen global guardado en: {compact_csv}\")"
      ]
    },
    {
      "cell_type": "code",
      "execution_count": 19,
      "id": "e60ad8b8",
      "metadata": {},
      "outputs": [
        {
          "name": "stdout",
          "output_type": "stream",
          "text": [
            "Archivos LaTeX exportados (significancia_ols.tex y significancia_global_ols.tex).\n"
          ]
        }
      ],
      "source": [
        "try:\n",
        "    with open(LATEX_OUT / \"significancia_ols.tex\", \"w\") as f:\n",
        "        f.write(\n",
        "            sig_df.rename(\n",
        "                columns={\n",
        "                    \"Modelo\": \"Modelo\",\n",
        "                    \"Término\": \"Término\",\n",
        "                    \"β\": \"$\\\\beta$\",\n",
        "                    \"EE(β)\": \"EE($\\\\beta$)\",\n",
        "                    \"t\": \"$t$\",\n",
        "                    \"p(t)\": \"$p(t)$\",\n",
        "                    \"CI95% inf\": \"CI95\\\\% inf\",\n",
        "                    \"CI95% sup\": \"CI95\\\\% sup\",\n",
        "                    \"F global\": \"$F$\",\n",
        "                    \"p(F)\": \"$p(F)$\",\n",
        "                    \"R2\": \"$R^2$\",\n",
        "                    \"R2_adj\": \"$R^2_{adj}$\",\n",
        "                }\n",
        "            ).to_latex(\n",
        "                index=False,\n",
        "                float_format=\"%.4f\",\n",
        "                caption=\"Pruebas de significancia: F global y t por coeficiente\",\n",
        "                label=\"tab:significancia_ols\",\n",
        "            )\n",
        "        )\n",
        "    with open(LATEX_OUT / \"significancia_global_ols.tex\", \"w\") as f:\n",
        "        f.write(\n",
        "            compact.rename(\n",
        "                columns={\n",
        "                    \"Fórmula\": \"Fórmula\",\n",
        "                    \"F global\": \"$F$\",\n",
        "                    \"p(F)\": \"$p(F)$\",\n",
        "                    \"R2\": \"$R^2$\",\n",
        "                    \"R2_adj\": \"$R^2_{adj}$\",\n",
        "                    \"gl (modelo,resid)\": \"gl (modelo,resid)\",\n",
        "                }\n",
        "            ).to_latex(\n",
        "                index=False,\n",
        "                float_format=\"%.4f\",\n",
        "                caption=\"Significancia global por modelo (prueba F)\",\n",
        "                label=\"tab:significancia_global_ols\",\n",
        "            )\n",
        "        )\n",
        "    print(\n",
        "        \"Archivos LaTeX exportados (significancia_ols.tex y significancia_global_ols.tex).\"\n",
        "    )\n",
        "except Exception as e:\n",
        "    print(\"No se exportó LaTeX (opcional). Razón:\", e)"
      ]
    },
    {
      "cell_type": "code",
      "execution_count": null,
      "id": "5ad6f902",
      "metadata": {},
      "outputs": [],
      "source": []
    }
  ],
  "metadata": {
    "kernelspec": {
      "display_name": "stats",
      "language": "python",
      "name": "python3"
    },
    "language_info": {
      "codemirror_mode": {
        "name": "ipython",
        "version": 3
      },
      "file_extension": ".py",
      "mimetype": "text/x-python",
      "name": "python",
      "nbconvert_exporter": "python",
      "pygments_lexer": "ipython3",
      "version": "3.11.11"
    }
  },
  "nbformat": 4,
  "nbformat_minor": 5
}
