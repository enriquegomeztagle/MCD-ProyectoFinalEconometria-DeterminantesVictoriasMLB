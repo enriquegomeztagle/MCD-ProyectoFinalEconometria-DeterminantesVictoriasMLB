{
  "cells": [
    {
      "cell_type": "code",
      "execution_count": 8,
      "id": "a0fc1232",
      "metadata": {},
      "outputs": [],
      "source": [
        "import pandas as pd\n",
        "import numpy as np\n",
        "from pathlib import Path\n",
        "import matplotlib.pyplot as plt\n",
        "\n",
        "import statsmodels.api as sm\n",
        "from statsmodels.tools.tools import add_constant"
      ]
    },
    {
      "cell_type": "code",
      "execution_count": 9,
      "id": "749f04d8",
      "metadata": {},
      "outputs": [],
      "source": [
        "MASTER = Path(\"../data/processed/master_teams_2000_2019.csv\")\n",
        "TAB_OUT = Path(\"../data/processed/\")\n",
        "FIG_OUT = Path(\"../plots/final_version\")\n",
        "TAB_OUT.mkdir(parents=True, exist_ok=True)\n",
        "FIG_OUT.mkdir(parents=True, exist_ok=True)\n",
        "LATEX_OUT = Path(\"../latex/tables/final_version\")\n",
        "LATEX_OUT.mkdir(parents=True, exist_ok=True)"
      ]
    },
    {
      "cell_type": "code",
      "execution_count": null,
      "id": "9d347113",
      "metadata": {},
      "outputs": [],
      "source": [
        "def run_multiple_ols(df: pd.DataFrame, y_col: str, x_cols: list):\n",
        "    sub = df[[y_col] + x_cols].dropna().copy()\n",
        "    X = add_constant(sub[x_cols])\n",
        "    y = sub[y_col]\n",
        "    model = sm.OLS(y, X).fit()\n",
        "\n",
        "    sub[\"yhat\"] = model.predict(X)\n",
        "    sub[\"resid\"] = y - sub[\"yhat\"]\n",
        "\n",
        "    rmse = float(np.sqrt(np.mean(sub[\"resid\"] ** 2)))\n",
        "    mae = float(np.mean(np.abs(sub[\"resid\"])))\n",
        "\n",
        "    print(f\"\\n=== Modelo múltiple: {y_col} ~ {', '.join(x_cols)} ===\")\n",
        "    print(model.summary())\n",
        "    print(f\"R^2 = {model.rsquared:.4f} | R^2 adj = {model.rsquared_adj:.4f}\")\n",
        "    print(\n",
        "        f\"F({int(model.df_model)}, {int(model.df_resid)}) = {model.fvalue:.2f}  p(F) = {model.f_pvalue:.3e}\"\n",
        "    )\n",
        "    print(f\"RMSE = {rmse:.3f} | MAE = {mae:.3f}\")\n",
        "\n",
        "    coefs = model.params.to_dict()\n",
        "    pvals = model.pvalues.to_dict()\n",
        "    conf_int = model.conf_int().to_dict(\"index\")\n",
        "\n",
        "    return {\n",
        "        \"modelo\": f\"{y_col} ~ {', '.join(x_cols)}\",\n",
        "        \"coef\": coefs,\n",
        "        \"pval\": pvals,\n",
        "        \"ci\": conf_int,\n",
        "        \"R2\": float(model.rsquared),\n",
        "        \"R2_adj\": float(model.rsquared_adj),\n",
        "        \"F\": float(model.fvalue),\n",
        "        \"p_F\": float(model.f_pvalue),\n",
        "        \"AIC\": float(model.aic),\n",
        "        \"BIC\": float(model.bic),\n",
        "        \"N\": int(model.nobs),\n",
        "        \"RMSE\": rmse,\n",
        "        \"MAE\": mae,\n",
        "        \"yhat\": sub[\"yhat\"].to_numpy(),\n",
        "        \"resid\": sub[\"resid\"].to_numpy(),\n",
        "        \"model\": model,\n",
        "    }"
      ]
    },
    {
      "cell_type": "code",
      "execution_count": 11,
      "id": "0883048a",
      "metadata": {},
      "outputs": [],
      "source": [
        "df = pd.read_csv(MASTER, parse_dates=[\"season_date\"])"
      ]
    },
    {
      "cell_type": "code",
      "execution_count": 12,
      "id": "5c70c925",
      "metadata": {},
      "outputs": [
        {
          "name": "stdout",
          "output_type": "stream",
          "text": [
            "\n",
            "=== Modelo múltiple: W ~ RunDiff, ERA, HR ===\n",
            "                            OLS Regression Results                            \n",
            "==============================================================================\n",
            "Dep. Variable:                      W   R-squared:                       0.885\n",
            "Model:                            OLS   Adj. R-squared:                  0.885\n",
            "Method:                 Least Squares   F-statistic:                     1534.\n",
            "Date:                Wed, 01 Oct 2025   Prob (F-statistic):          9.94e-280\n",
            "Time:                        00:25:13   Log-Likelihood:                -1681.4\n",
            "No. Observations:                 600   AIC:                             3371.\n",
            "Df Residuals:                     596   BIC:                             3388.\n",
            "Df Model:                           3                                         \n",
            "Covariance Type:            nonrobust                                         \n",
            "==============================================================================\n",
            "                 coef    std err          t      P>|t|      [0.025      0.975]\n",
            "------------------------------------------------------------------------------\n",
            "const         86.0159      1.764     48.751      0.000      82.551      89.481\n",
            "RunDiff        0.0917      0.003     34.975      0.000       0.087       0.097\n",
            "ERA           -1.8249      0.500     -3.647      0.000      -2.807      -0.842\n",
            "HR             0.0156      0.006      2.640      0.009       0.004       0.027\n",
            "==============================================================================\n",
            "Omnibus:                        4.013   Durbin-Watson:                   1.789\n",
            "Prob(Omnibus):                  0.134   Jarque-Bera (JB):                3.840\n",
            "Skew:                           0.190   Prob(JB):                        0.147\n",
            "Kurtosis:                       3.099   Cond. No.                     1.98e+03\n",
            "==============================================================================\n",
            "\n",
            "Notes:\n",
            "[1] Standard Errors assume that the covariance matrix of the errors is correctly specified.\n",
            "[2] The condition number is large, 1.98e+03. This might indicate that there are\n",
            "strong multicollinearity or other numerical problems.\n",
            "R^2 = 0.8853 | R^2 adj = 0.8847\n",
            "F(3, 596) = 1533.60  p(F) = 9.945e-280\n",
            "RMSE = 3.988 | MAE = 3.177\n"
          ]
        }
      ],
      "source": [
        "predictors_all = [\"RunDiff\", \"ERA\", \"HR\"]\n",
        "target = \"W\"\n",
        "res_multi = run_multiple_ols(df, target, predictors_all)"
      ]
    },
    {
      "cell_type": "code",
      "execution_count": 13,
      "id": "11077bcd",
      "metadata": {},
      "outputs": [],
      "source": [
        "coef_order = [c for c in [\"const\", \"RunDiff\", \"ERA\", \"HR\"] if c in res_multi[\"coef\"]]\n",
        "\n",
        "coef_rows = []\n",
        "for var in coef_order:\n",
        "    beta = float(res_multi[\"coef\"][var])\n",
        "    pval = float(res_multi[\"pval\"][var])\n",
        "    ci_low = float(res_multi[\"ci\"][var][0])\n",
        "    ci_high = float(res_multi[\"ci\"][var][1])\n",
        "    coef_rows.append(\n",
        "        {\n",
        "            \"variable\": var,\n",
        "            \"beta_hat\": beta,\n",
        "            \"p_value\": pval,\n",
        "            \"ci95_low\": ci_low,\n",
        "            \"ci95_high\": ci_high,\n",
        "        }\n",
        "    )\n",
        "\n",
        "coef_df = pd.DataFrame(coef_rows)"
      ]
    },
    {
      "cell_type": "code",
      "execution_count": 14,
      "id": "fdeb68f8",
      "metadata": {},
      "outputs": [],
      "source": [
        "metrics = pd.DataFrame(\n",
        "    [\n",
        "        {\n",
        "            \"variable\": \"R2\",\n",
        "            \"beta_hat\": res_multi[\"R2\"],\n",
        "            \"p_value\": np.nan,\n",
        "            \"ci95_low\": np.nan,\n",
        "            \"ci95_high\": np.nan,\n",
        "        },\n",
        "        {\n",
        "            \"variable\": \"R2_adj\",\n",
        "            \"beta_hat\": res_multi[\"R2_adj\"],\n",
        "            \"p_value\": np.nan,\n",
        "            \"ci95_low\": np.nan,\n",
        "            \"ci95_high\": np.nan,\n",
        "        },\n",
        "        {\n",
        "            \"variable\": \"F_stat\",\n",
        "            \"beta_hat\": res_multi[\"F\"],\n",
        "            \"p_value\": res_multi[\"p_F\"],\n",
        "            \"ci95_low\": np.nan,\n",
        "            \"ci95_high\": np.nan,\n",
        "        },\n",
        "        {\n",
        "            \"variable\": \"AIC\",\n",
        "            \"beta_hat\": res_multi[\"AIC\"],\n",
        "            \"p_value\": np.nan,\n",
        "            \"ci95_low\": np.nan,\n",
        "            \"ci95_high\": np.nan,\n",
        "        },\n",
        "        {\n",
        "            \"variable\": \"BIC\",\n",
        "            \"beta_hat\": res_multi[\"BIC\"],\n",
        "            \"p_value\": np.nan,\n",
        "            \"ci95_low\": np.nan,\n",
        "            \"ci95_high\": np.nan,\n",
        "        },\n",
        "        {\n",
        "            \"variable\": \"N\",\n",
        "            \"beta_hat\": res_multi[\"N\"],\n",
        "            \"p_value\": np.nan,\n",
        "            \"ci95_low\": np.nan,\n",
        "            \"ci95_high\": np.nan,\n",
        "        },\n",
        "        {\n",
        "            \"variable\": \"RMSE\",\n",
        "            \"beta_hat\": res_multi[\"RMSE\"],\n",
        "            \"p_value\": np.nan,\n",
        "            \"ci95_low\": np.nan,\n",
        "            \"ci95_high\": np.nan,\n",
        "        },\n",
        "        {\n",
        "            \"variable\": \"MAE\",\n",
        "            \"beta_hat\": res_multi[\"MAE\"],\n",
        "            \"p_value\": np.nan,\n",
        "            \"ci95_low\": np.nan,\n",
        "            \"ci95_high\": np.nan,\n",
        "        },\n",
        "    ]\n",
        ")"
      ]
    },
    {
      "cell_type": "code",
      "execution_count": 15,
      "id": "448dcf42",
      "metadata": {},
      "outputs": [
        {
          "name": "stdout",
          "output_type": "stream",
          "text": [
            "\n",
            "Tablas guardadas en data/processed/ols_multiple_coefficients.csv y ols_multiple_metrics.csv\n"
          ]
        }
      ],
      "source": [
        "coef_df.to_csv(\n",
        "    TAB_OUT / \"ols_multiple_coefficients.csv\", index=False, float_format=\"%.6f\"\n",
        ")\n",
        "metrics.to_csv(TAB_OUT / \"ols_multiple_metrics.csv\", index=False, float_format=\"%.6f\")\n",
        "print(\n",
        "    \"\\nTablas guardadas en data/processed/ols_multiple_coefficients.csv y ols_multiple_metrics.csv\"\n",
        ")"
      ]
    },
    {
      "cell_type": "code",
      "execution_count": 16,
      "id": "0c081cf0",
      "metadata": {},
      "outputs": [
        {
          "name": "stdout",
          "output_type": "stream",
          "text": [
            "Tabla LaTeX exportada: latex/tables/final_version/ols_multiple_coefficients.tex\n"
          ]
        }
      ],
      "source": [
        "latex_coef = coef_df.rename(\n",
        "    columns={\n",
        "        \"variable\": \"Variable\",\n",
        "        \"beta_hat\": \"$\\\\hat{\\\\beta}$\",\n",
        "        \"p_value\": \"$p$\",\n",
        "        \"ci95_low\": \"CI95\\\\% Inf\",\n",
        "        \"ci95_high\": \"CI95\\\\% Sup\",\n",
        "    }\n",
        ").to_latex(\n",
        "    index=False,\n",
        "    float_format=\"%.4f\",\n",
        "    caption=\"Modelo de regresión lineal múltiple: $W \\\\sim RunDiff + ERA + HR$ (coeficientes)\",\n",
        "    label=\"tab:ols_multiple_coef\",\n",
        ")\n",
        "with open(LATEX_OUT / \"ols_multiple_coefficients.tex\", \"w\") as f:\n",
        "    f.write(latex_coef)\n",
        "print(\"Tabla LaTeX exportada: latex/tables/final_version/ols_multiple_coefficients.tex\")"
      ]
    },
    {
      "cell_type": "code",
      "execution_count": 17,
      "id": "06fd9344",
      "metadata": {},
      "outputs": [
        {
          "name": "stdout",
          "output_type": "stream",
          "text": [
            "Tabla LaTeX exportada: latex/tables/final_version/ols_multiple_metrics.tex\n"
          ]
        }
      ],
      "source": [
        "latex_metrics = metrics.rename(\n",
        "    columns={\n",
        "        \"variable\": \"Métrica\",\n",
        "        \"beta_hat\": \"Valor\",\n",
        "        \"p_value\": \"$p$\",\n",
        "        \"ci95_low\": \"CI95\\\\% Inf\",\n",
        "        \"ci95_high\": \"CI95\\\\% Sup\",\n",
        "    }\n",
        ").to_latex(\n",
        "    index=False,\n",
        "    float_format=\"%.4f\",\n",
        "    caption=\"Bondad de ajuste y métricas del modelo múltiple\",\n",
        "    label=\"tab:ols_multiple_metrics\",\n",
        ")\n",
        "with open(LATEX_OUT / \"ols_multiple_metrics.tex\", \"w\") as f:\n",
        "    f.write(latex_metrics)\n",
        "print(\"Tabla LaTeX exportada: latex/tables/final_version/ols_multiple_metrics.tex\")"
      ]
    },
    {
      "cell_type": "code",
      "execution_count": null,
      "id": "e3b83bab",
      "metadata": {},
      "outputs": [],
      "source": [
        "sub_plot = df[[target] + predictors_all].dropna().copy()\n",
        "params = res_multi[\"coef\"]\n",
        "\n",
        "fig, axes = plt.subplots(1, 3, figsize=(15, 4.8), sharey=True)\n",
        "for ax, var in zip(axes, predictors_all):\n",
        "    xj = sub_plot[var].to_numpy()\n",
        "    y_adj = sub_plot[target].to_numpy() - float(params.get(\"const\", 0.0))\n",
        "    for k in predictors_all:\n",
        "        if k != var:\n",
        "            y_adj = y_adj - float(params[k]) * sub_plot[k].to_numpy()\n",
        "    bj = float(params[var])\n",
        "    ax.scatter(xj, y_adj, alpha=0.6)\n",
        "    xs = np.linspace(xj.min(), xj.max(), 200)\n",
        "    ys = bj * xs\n",
        "    ax.plot(xs, ys, lw=2)\n",
        "    ax.set_title(f\"Añadida: {target} vs {var} | resto controlado\")\n",
        "    ax.set_xlabel(var)\n",
        "axes[0].set_ylabel(f\"{target} ajustada (y*)\")\n",
        "fig.tight_layout()\n",
        "fig.savefig(\n",
        "    FIG_OUT / \"ols_scatter_grid_RunDiff_ERA_HR.png\",\n",
        "    dpi=150,\n",
        "    bbox_inches=\"tight\",\n",
        "    transparent=True,\n",
        ")\n",
        "plt.close(fig)"
      ]
    },
    {
      "cell_type": "code",
      "execution_count": 19,
      "id": "c0396cbf",
      "metadata": {},
      "outputs": [],
      "source": [
        "yhat = res_multi[\"yhat\"]\n",
        "resid = res_multi[\"resid\"]\n",
        "fig, axes = plt.subplots(1, 3, figsize=(15, 4.8), sharey=True, sharex=True)\n",
        "for ax, var in zip(axes, predictors_all):\n",
        "    ax.scatter(yhat, resid, alpha=0.6)\n",
        "    ax.axhline(0, color=\"black\", lw=1)\n",
        "    ax.set_title(f\"Residuales vs ŷ (múltiple) | {var}\")\n",
        "    ax.set_xlabel(\"Valores ajustados (ŷ)\")\n",
        "axes[0].set_ylabel(\"Residuales (y - ŷ)\")\n",
        "fig.tight_layout()\n",
        "fig.savefig(\n",
        "    FIG_OUT / \"ols_resid_grid_RunDiff_ERA_HR.png\",\n",
        "    dpi=150,\n",
        "    bbox_inches=\"tight\",\n",
        "    transparent=True,\n",
        ")\n",
        "plt.close(fig)"
      ]
    },
    {
      "cell_type": "code",
      "execution_count": null,
      "id": "f441fec5",
      "metadata": {},
      "outputs": [],
      "source": []
    }
  ],
  "metadata": {
    "kernelspec": {
      "display_name": "stats",
      "language": "python",
      "name": "python3"
    },
    "language_info": {
      "codemirror_mode": {
        "name": "ipython",
        "version": 3
      },
      "file_extension": ".py",
      "mimetype": "text/x-python",
      "name": "python",
      "nbconvert_exporter": "python",
      "pygments_lexer": "ipython3",
      "version": "3.11.11"
    }
  },
  "nbformat": 4,
  "nbformat_minor": 5
}
